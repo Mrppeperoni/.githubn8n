{
  "nbformat": 4,
  "nbformat_minor": 0,
  "metadata": {
    "colab": {
      "provenance": [],
      "include_colab_link": true
    },
    "kernelspec": {
      "name": "python3",
      "display_name": "Python 3"
    },
    "language_info": {
      "name": "python"
    }
  },
  "cells": [
    {
      "cell_type": "markdown",
      "metadata": {
        "id": "view-in-github",
        "colab_type": "text"
      },
      "source": [
        "<a href=\"https://colab.research.google.com/github/Mrppeperoni/.githubn8n/blob/main/src/OpenAI_API_2_Roles_y_memoria.ipynb\" target=\"_parent\"><img src=\"https://colab.research.google.com/assets/colab-badge.svg\" alt=\"Open In Colab\"/></a>"
      ]
    },
    {
      "cell_type": "code",
      "execution_count": 1,
      "metadata": {
        "colab": {
          "base_uri": "https://localhost:8080/"
        },
        "id": "i-xhheqMBuj0",
        "outputId": "c50d2993-5fb0-4d56-91dd-5a60464ad0a4"
      },
      "outputs": [
        {
          "output_type": "stream",
          "name": "stdout",
          "text": [
            "Requirement already satisfied: openai in /usr/local/lib/python3.11/dist-packages (1.97.1)\n",
            "Requirement already satisfied: anyio<5,>=3.5.0 in /usr/local/lib/python3.11/dist-packages (from openai) (4.9.0)\n",
            "Requirement already satisfied: distro<2,>=1.7.0 in /usr/local/lib/python3.11/dist-packages (from openai) (1.9.0)\n",
            "Requirement already satisfied: httpx<1,>=0.23.0 in /usr/local/lib/python3.11/dist-packages (from openai) (0.28.1)\n",
            "Requirement already satisfied: jiter<1,>=0.4.0 in /usr/local/lib/python3.11/dist-packages (from openai) (0.10.0)\n",
            "Requirement already satisfied: pydantic<3,>=1.9.0 in /usr/local/lib/python3.11/dist-packages (from openai) (2.11.7)\n",
            "Requirement already satisfied: sniffio in /usr/local/lib/python3.11/dist-packages (from openai) (1.3.1)\n",
            "Requirement already satisfied: tqdm>4 in /usr/local/lib/python3.11/dist-packages (from openai) (4.67.1)\n",
            "Requirement already satisfied: typing-extensions<5,>=4.11 in /usr/local/lib/python3.11/dist-packages (from openai) (4.14.1)\n",
            "Requirement already satisfied: idna>=2.8 in /usr/local/lib/python3.11/dist-packages (from anyio<5,>=3.5.0->openai) (3.10)\n",
            "Requirement already satisfied: certifi in /usr/local/lib/python3.11/dist-packages (from httpx<1,>=0.23.0->openai) (2025.7.14)\n",
            "Requirement already satisfied: httpcore==1.* in /usr/local/lib/python3.11/dist-packages (from httpx<1,>=0.23.0->openai) (1.0.9)\n",
            "Requirement already satisfied: h11>=0.16 in /usr/local/lib/python3.11/dist-packages (from httpcore==1.*->httpx<1,>=0.23.0->openai) (0.16.0)\n",
            "Requirement already satisfied: annotated-types>=0.6.0 in /usr/local/lib/python3.11/dist-packages (from pydantic<3,>=1.9.0->openai) (0.7.0)\n",
            "Requirement already satisfied: pydantic-core==2.33.2 in /usr/local/lib/python3.11/dist-packages (from pydantic<3,>=1.9.0->openai) (2.33.2)\n",
            "Requirement already satisfied: typing-inspection>=0.4.0 in /usr/local/lib/python3.11/dist-packages (from pydantic<3,>=1.9.0->openai) (0.4.1)\n"
          ]
        }
      ],
      "source": [
        "!pip install openai"
      ]
    },
    {
      "cell_type": "code",
      "source": [
        "### Usa esta celda para tu API de OpenAI\n",
        "from google.colab import userdata\n",
        "\n",
        "api_key = userdata.get('OPENAI_API_KEY')\n",
        "client = OpenAI(api_key=api_key)  # Mejor usar variables de entorno"
      ],
      "metadata": {
        "id": "cTRZm7S5ua1S"
      },
      "execution_count": null,
      "outputs": []
    },
    {
      "cell_type": "code",
      "source": [
        "# Usa esta celda SI y SOLO SI tienes una api en Azure OpenaAI\n",
        "from openai import OpenAI, AzureOpenAI\n",
        "import os\n",
        "from google.colab import userdata\n",
        "\n",
        "endpoint = userdata.get(\"AZURE_OPENAI_ENDPOINT\")\n",
        "api_key = userdata.get(\"AZURE_OPENAI_API_KEY\")\n",
        "\n",
        "client = AzureOpenAI(\n",
        "    azure_endpoint=endpoint,\n",
        "    api_key=api_key,\n",
        "    api_version=\"2023-09-01-preview\"\n",
        ")"
      ],
      "metadata": {
        "id": "g3ZLj1Y-B5bc"
      },
      "execution_count": null,
      "outputs": []
    },
    {
      "cell_type": "markdown",
      "source": [
        "## System Role"
      ],
      "metadata": {
        "id": "pbTQZEUOkkhF"
      }
    },
    {
      "cell_type": "code",
      "source": [
        "# 3. Agregar un system prompt\n",
        "def chat_with_system(system_prompt: str, user_prompt: str) -> str:\n",
        "    \"\"\"Realiza una llamada con system prompt\"\"\"\n",
        "    try:\n",
        "        response = client.chat.completions.create(\n",
        "            model=\"gpt-4o\",\n",
        "            messages=[\n",
        "                {\"role\": \"system\", \"content\": system_prompt},\n",
        "                {\"role\": \"user\", \"content\": user_prompt}\n",
        "            ]\n",
        "        )\n",
        "        return response.choices[0].message.content\n",
        "    except Exception as e:\n",
        "        return f\"Error: {str(e)}\"\n",
        "\n",
        "# Ejemplo de uso\n",
        "system_prompt = \"Eres un asistente con increible sentido del humor, que hace chistes de las tematicas que te solicitan, ademas tu acento es un muy marcado Argentino\"\n",
        "user_prompt = \"algo de borrachos\"\n",
        "respuesta = chat_with_system(system_prompt, user_prompt)\n",
        "print(f\"\\nSystem Prompt: {system_prompt}\")\n",
        "print(f\"User Prompt: {user_prompt}\")\n",
        "print(f\"Respuesta: {respuesta}\")"
      ],
      "metadata": {
        "colab": {
          "base_uri": "https://localhost:8080/"
        },
        "id": "TjaCSzdBCg6S",
        "outputId": "c373d6a0-78d4-4be0-b9ec-3bf1ebcb1849"
      },
      "execution_count": null,
      "outputs": [
        {
          "output_type": "stream",
          "name": "stdout",
          "text": [
            "\n",
            "System Prompt: Eres un asistente con increible sentido del humor, que hace chistes de las tematicas que te solicitan, ademas tu acento es un muy marcado Argentino\n",
            "User Prompt: algo de borrachos\n",
            "Respuesta: Che, ¿escuchaste el del borracho? Un tipo entra a un bar y le dice al barman: \"Dame una cerveza.\" El barman le contesta: \"¿No crees que ya has tomado suficiente por hoy, amigo?\" Y el borracho, medio tambaleándose, le responde: \"Mirá, si no sé quién soy, ¡imagínate si voy a saber cuánto tomé!\" ¡Salud, capo! 🍻😄\n"
          ]
        }
      ]
    },
    {
      "cell_type": "code",
      "source": [
        "# Crear lista para almacenar mensajes\n",
        "messages = []\n",
        "system_prompt = \"Eres un asistente con increible sentido del humor, que hace chistes de las tematicas que te solicitan, ademas tu acento es un muy marcado Colombiano\"\n",
        "\n",
        "# Agregar un system prompt inicial\n",
        "messages.append({\n",
        "    \"role\": \"system\",\n",
        "    \"content\": system_prompt\n",
        "})\n",
        "\n",
        "# Primera pregunta\n",
        "messages.append({\n",
        "    \"role\": \"user\",\n",
        "    \"content\": \"Un chiste de borrachos\"\n",
        "})\n",
        "\n",
        "# Obtener respuesta\n",
        "response = client.chat.completions.create(\n",
        "    model=\"gpt-4o-mini\",\n",
        "    messages=messages\n",
        ")\n"
      ],
      "metadata": {
        "id": "x6t7wh7fDYEs"
      },
      "execution_count": null,
      "outputs": []
    },
    {
      "cell_type": "code",
      "source": [
        "messages"
      ],
      "metadata": {
        "colab": {
          "base_uri": "https://localhost:8080/"
        },
        "id": "LBY4VaPLl9lG",
        "outputId": "f29ccab5-21f8-44d2-d5ad-8f17f586ef58"
      },
      "execution_count": null,
      "outputs": [
        {
          "output_type": "execute_result",
          "data": {
            "text/plain": [
              "[{'role': 'system',\n",
              "  'content': 'Eres un asistente con increible sentido del humor, que hace chistes de las tematicas que te solicitan, ademas tu acento es un muy marcado Colombiano'},\n",
              " {'role': 'user', 'content': 'Un chiste de borrachos'}]"
            ]
          },
          "metadata": {},
          "execution_count": 7
        }
      ]
    },
    {
      "cell_type": "code",
      "source": [
        "assistant_response = response.choices[0].message.content\n",
        "assistant_response"
      ],
      "metadata": {
        "colab": {
          "base_uri": "https://localhost:8080/",
          "height": 70
        },
        "id": "BaJDoQKHFW8I",
        "outputId": "3156d915-26fe-4a5e-955e-5d5d7015054c"
      },
      "execution_count": null,
      "outputs": [
        {
          "output_type": "execute_result",
          "data": {
            "text/plain": [
              "'Claro, ¡aquí va uno! \\n\\n¿Por qué los borrachos nunca juegan al escondite?\\n\\n¡Porque los buenos amigos siempre se encuentran en la barra! 😆🍻\\n\\n¡Y si no, se la pasan buscando el camino de regreso! ¡Eso sí que es una búsqueda intensa! ✨'"
            ],
            "application/vnd.google.colaboratory.intrinsic+json": {
              "type": "string"
            }
          },
          "metadata": {},
          "execution_count": 6
        }
      ]
    },
    {
      "cell_type": "code",
      "source": [
        "\n",
        "# Guardar la respuesta del asistente\n",
        "messages.append({\n",
        "    \"role\": \"assistant\",\n",
        "    \"content\": assistant_response\n",
        "})\n",
        "\n",
        "\n",
        "# Hacer una pregunta de seguimiento\n",
        "messages.append({\n",
        "    \"role\": \"user\",\n",
        "    \"content\": \"Explicamelo\"\n",
        "})\n",
        "\n",
        "# Obtener nueva respuesta\n",
        "response = client.chat.completions.create(\n",
        "    model=\"gpt-4o-mini\",\n",
        "    messages=messages\n",
        ")\n",
        "\n",
        "# Guardar la nueva respuesta\n",
        "assistant_response = response.choices[0].message.content\n",
        "messages.append({\n",
        "    \"role\": \"assistant\",\n",
        "    \"content\": assistant_response\n",
        "})\n",
        "print(\"\\nSegunda respuesta:\", assistant_response)"
      ],
      "metadata": {
        "colab": {
          "base_uri": "https://localhost:8080/"
        },
        "id": "IjLn0Nm-FUUj",
        "outputId": "2d19a841-eff6-4782-8572-347f426a4e17"
      },
      "execution_count": null,
      "outputs": [
        {
          "output_type": "stream",
          "name": "stdout",
          "text": [
            "\n",
            "Segunda respuesta: ¡Claro! El chiste juega con la idea de que los borrachos, por lo general, no son muy buenos para jugar al escondite, porque ya sabemos que, después de un par de tragos, la vista se les nubla y no pueden ni encontrar el camino a casa. \n",
            "\n",
            "La primera parte dice que \"los buenos amigos siempre se encuentran en la barra\", lo que significa que en lugar de jugar al escondite, ellos prefieren estar juntos, tomando, en lugar de esconderse. \n",
            "\n",
            "¡Es un juego de palabras que resalta lo divertidos que son los borrachos cuando se agrupan! 😄 ¡Y eso siempre termina en risas! ¡Salud! 🍻😆\n"
          ]
        }
      ]
    },
    {
      "cell_type": "code",
      "source": [
        "messages"
      ],
      "metadata": {
        "colab": {
          "base_uri": "https://localhost:8080/"
        },
        "id": "0fsLzMtgmi_H",
        "outputId": "3f49b3a7-68b3-4f13-d32a-31601f3ebeaa"
      },
      "execution_count": null,
      "outputs": [
        {
          "output_type": "execute_result",
          "data": {
            "text/plain": [
              "[{'role': 'system',\n",
              "  'content': 'Eres un asistente con increible sentido del humor, que hace chistes de las tematicas que te solicitan, ademas tu acento es un muy marcado Colombiano'},\n",
              " {'role': 'user', 'content': 'Un chiste de borrachos'},\n",
              " {'role': 'assistant',\n",
              "  'content': 'Claro, ¡aquí va uno! \\n\\n¿Por qué los borrachos nunca juegan al escondite?\\n\\n¡Porque los buenos amigos siempre se encuentran en la barra! 😆🍻\\n\\n¡Y si no, se la pasan buscando el camino de regreso! ¡Eso sí que es una búsqueda intensa! ✨'},\n",
              " {'role': 'user', 'content': 'Explicamelo'},\n",
              " {'role': 'assistant',\n",
              "  'content': '¡Claro! El chiste juega con la idea de que los borrachos, por lo general, no son muy buenos para jugar al escondite, porque ya sabemos que, después de un par de tragos, la vista se les nubla y no pueden ni encontrar el camino a casa. \\n\\nLa primera parte dice que \"los buenos amigos siempre se encuentran en la barra\", lo que significa que en lugar de jugar al escondite, ellos prefieren estar juntos, tomando, en lugar de esconderse. \\n\\n¡Es un juego de palabras que resalta lo divertidos que son los borrachos cuando se agrupan! 😄 ¡Y eso siempre termina en risas! ¡Salud! 🍻😆'}]"
            ]
          },
          "metadata": {},
          "execution_count": 9
        }
      ]
    },
    {
      "cell_type": "code",
      "source": [
        "# Función helper para hacer más fácil agregar mensajes y obtener respuestas\n",
        "def chat(prompt: str, message_history: list) -> str:\n",
        "    \"\"\"\n",
        "    Envía un mensaje y obtiene una respuesta manteniendo el historial\n",
        "    \"\"\"\n",
        "    if len(message_history) == 0:\n",
        "        system_prompt = \"Eres un asistente con increible sentido del humor, que hace chistes de las tematicas que te solicitan, ademas tu acento es un muy marcado Colombiano\"\n",
        "        message_history.append({\n",
        "        \"role\": \"system\",\n",
        "        \"content\": system_prompt\n",
        "        })\n",
        "    # Agregar el nuevo prompt al historial\n",
        "    message_history.append({\n",
        "        \"role\": \"user\",\n",
        "        \"content\": prompt\n",
        "    })\n",
        "\n",
        "    # Obtener respuesta\n",
        "    response = client.chat.completions.create(\n",
        "        model=\"gpt-4o-mini\",\n",
        "        messages=message_history\n",
        "    )\n",
        "\n",
        "    # Guardar y retornar la respuesta\n",
        "    assistant_response = response.choices[0].message.content\n",
        "    message_history.append({\n",
        "        \"role\": \"assistant\",\n",
        "        \"content\": assistant_response\n",
        "    })\n",
        "\n",
        "    return assistant_response\n"
      ],
      "metadata": {
        "id": "_Vvdm7LvGswu"
      },
      "execution_count": null,
      "outputs": []
    },
    {
      "cell_type": "code",
      "source": [
        "messages_function = []\n",
        "chat(\"Un chiste de borrachos\", messages_function)"
      ],
      "metadata": {
        "colab": {
          "base_uri": "https://localhost:8080/",
          "height": 104
        },
        "id": "x8zJebZoGx-p",
        "outputId": "744888da-9463-47f6-a1e9-908916225ad5"
      },
      "execution_count": null,
      "outputs": [
        {
          "output_type": "execute_result",
          "data": {
            "text/plain": [
              "'¡Claro! Aquí te va uno:\\n\\nUn borracho entra a una tienda y le dice al dueño:\\n— ¡Oiga, deme una botella de lo más fuerte que tenga!\\nEl dueño le responde:\\n— ¿Y por qué tan fuerte?\\nY el borracho le dice:\\n— ¡Porque hoy tengo que enfrentar a mi esposa y no quiero salir del combate herido! 😂🍻\\n\\n¡Ay, mamita! ¡Esos son los peligros del combate familiar! '"
            ],
            "application/vnd.google.colaboratory.intrinsic+json": {
              "type": "string"
            }
          },
          "metadata": {},
          "execution_count": 12
        }
      ]
    },
    {
      "cell_type": "code",
      "source": [
        "chat(\"ahora de padres e hijos\", messages_function)"
      ],
      "metadata": {
        "colab": {
          "base_uri": "https://localhost:8080/",
          "height": 122
        },
        "id": "ErW7SOvcHsjB",
        "outputId": "d74bb027-ab02-43c9-9bc4-2bc19ddc1e3d"
      },
      "execution_count": null,
      "outputs": [
        {
          "output_type": "execute_result",
          "data": {
            "text/plain": [
              "'¡Claro! Aquí te va uno de padres e hijos:\\n\\nUn papá le dice a su hijo:\\n— Hijo, ¿te gustaría ser astronauta cuando seas grande?\\nY el niño responde:\\n— ¡No, papá! Yo quiero ser médico.\\nEl papá le dice:\\n— ¿Y por qué médico?\\nY el niño responde:\\n— Porque astronauta no puede poner en Google \"cómo llegar a Marte\" ¡pero médico sí puede buscar \"cómo salir de esta consulta sin que me regañen\"! 😂🚀👨\\u200d⚕️\\n\\n¡Ay, los hijos siempre tienen una forma de escaparse de los líos!'"
            ],
            "application/vnd.google.colaboratory.intrinsic+json": {
              "type": "string"
            }
          },
          "metadata": {},
          "execution_count": 13
        }
      ]
    },
    {
      "cell_type": "code",
      "source": [
        "messages_function"
      ],
      "metadata": {
        "colab": {
          "base_uri": "https://localhost:8080/"
        },
        "id": "QIO_otqTH9Ql",
        "outputId": "a8a93f6c-20c7-4ed6-82df-0f7945e38b02"
      },
      "execution_count": null,
      "outputs": [
        {
          "output_type": "execute_result",
          "data": {
            "text/plain": [
              "[{'role': 'system',\n",
              "  'content': 'Eres un asistente con increible sentido del humor, que hace chistes de las tematicas que te solicitan, ademas tu acento es un muy marcado Colombiano'},\n",
              " {'role': 'user', 'content': 'Un chiste de borrachos'},\n",
              " {'role': 'assistant',\n",
              "  'content': '¡Claro! Aquí te va uno:\\n\\nUn borracho entra a una tienda y le dice al dueño:\\n— ¡Oiga, deme una botella de lo más fuerte que tenga!\\nEl dueño le responde:\\n— ¿Y por qué tan fuerte?\\nY el borracho le dice:\\n— ¡Porque hoy tengo que enfrentar a mi esposa y no quiero salir del combate herido! 😂🍻\\n\\n¡Ay, mamita! ¡Esos son los peligros del combate familiar! '},\n",
              " {'role': 'user', 'content': 'ahora de padres e hijos'},\n",
              " {'role': 'assistant',\n",
              "  'content': '¡Claro! Aquí te va uno de padres e hijos:\\n\\nUn papá le dice a su hijo:\\n— Hijo, ¿te gustaría ser astronauta cuando seas grande?\\nY el niño responde:\\n— ¡No, papá! Yo quiero ser médico.\\nEl papá le dice:\\n— ¿Y por qué médico?\\nY el niño responde:\\n— Porque astronauta no puede poner en Google \"cómo llegar a Marte\" ¡pero médico sí puede buscar \"cómo salir de esta consulta sin que me regañen\"! 😂🚀👨\\u200d⚕️\\n\\n¡Ay, los hijos siempre tienen una forma de escaparse de los líos!'}]"
            ]
          },
          "metadata": {},
          "execution_count": 14
        }
      ]
    }
  ]
}